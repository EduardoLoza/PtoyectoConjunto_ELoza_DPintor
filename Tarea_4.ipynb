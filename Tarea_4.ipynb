{
 "cells": [
  {
   "cell_type": "markdown",
   "metadata": {},
   "source": [
    "<img style=\"float: left; margin: 30px 15px 15px 15px;\" src=\"https://pngimage.net/wp-content/uploads/2018/06/logo-iteso-png-5.png\" width=\"300\" height=\"500\" /> \n",
    "    \n",
    "    \n",
    "### <font color='navy'> Simulación de procesos financieros. \n",
    "\n",
    "**Nombres:** Eduardo Loza de la Torre y .\n",
    "\n",
    "**Fecha:** 16 de febrero del 2021.\n",
    "\n",
    "**Expediente** : 713423,  \n",
    "**Profesor:** Oscar David Jaramillo Zuluaga.\n",
    "\n",
    "# Tarea 4: Clase 7\n",
    "https://github.com/EduardoLoza/PtoyectoConjunto_ELoza_DPintor"
   ]
  },
  {
   "cell_type": "markdown",
   "metadata": {},
   "source": [
    "# Tarea 4\n",
    "\n",
    "# 1\n",
    "Como ejemplo simple de una simulación de Monte Carlo, considere calcular la probabilidad de una suma particular del lanzamiento de tres dados (cada dado tiene valores del uno al seis). Además cada dado tiene las siguientes carácterísticas: el primer dado no está cargado (distribución uniforme todos son equiprobables); el segundo y tercer dado están cargados basados en una distribución binomial con parámetros (`n=5, p=0.5` y `n=5, p=0.2`). Calcule la probabilidad de que la suma resultante sea 7, 14 o 18. "
   ]
  },
  {
   "cell_type": "code",
   "execution_count": 1,
   "metadata": {},
   "outputs": [],
   "source": [
    "import numpy as np\n",
    "import numpy as np\n",
    "import matplotlib.pyplot as plt\n",
    "import pandas as pd\n",
    "import os\n",
    "import scipy.stats as st"
   ]
  },
  {
   "cell_type": "code",
   "execution_count": null,
   "metadata": {},
   "outputs": [],
   "source": [
    "## Solucion Eduardo"
   ]
  },
  {
   "cell_type": "code",
   "execution_count": 4,
   "metadata": {},
   "outputs": [
    {
     "name": "stdout",
     "output_type": "stream",
     "text": [
      "0.19725428571428572\n",
      "0.0161\n",
      "0.0001\n"
     ]
    }
   ],
   "source": [
    "## Solucion Diego\n",
    "def prob3dados(resultado):\n",
    "    dado1 = np.random.randint(1,7,100000)\n",
    "    dado2 = st.binom(n=5, p=0.5).rvs(size=100000)\n",
    "    dado3 = st.binom(n=5, p=0.2).rvs(size=100000)\n",
    "    r = dado1+dado2+dado3\n",
    "    y, x = np.histogram(r, bins=18, density=True)\n",
    "    return y[resultado-1]\n",
    "print(prob3dados(7))\n",
    "print(round(prob3dados(14),4))\n",
    "print(round(prob3dados(18),4))"
   ]
  },
  {
   "cell_type": "markdown",
   "metadata": {},
   "source": [
    "# 2 Ejercicio de aplicación- Cafetería Central\n",
    "\n",
    "Premisas para la simulación:\n",
    "- Negocio de alimentos que vende bebidas y alimentos.\n",
    "- Negocio dentro del ITESO.\n",
    "- Negocio en cafetería central.\n",
    "- Tipo de clientes (hombres y mujeres).\n",
    "- Rentabilidad del 60%.\n",
    "\n",
    "## Objetivo\n",
    "Realizar una simulación estimado el tiempo medio que se tardaran los clientes en ser atendidos entre el horario de 6:30 a 1 pm. Además saber el consumo. \n",
    "**Analizar supuestos y limitantes**"
   ]
  },
  {
   "cell_type": "markdown",
   "metadata": {},
   "source": [
    "## Supuestos en simulación\n",
    "Clasificación de clientes: \n",
    "- Mujer  = 1 $\\longrightarrow$ aleatorio < 0.5\n",
    "- Hombre = 0 $\\longrightarrow$ aleatorio $\\geq$ 0.5.\n",
    "\n",
    "Condiciones iniciales:\n",
    "- Todas las distrubuciones de probabilidad se supondrán uniformes.\n",
    "- Tiempo de simulación: 6:30 am - 1:30pm $\\longrightarrow$ T = 7 horas = 25200 seg.\n",
    "- Tiempo de llegada hasta ser atendido: Min=5seg, Max=30seg.\n",
    "- Tiempo que tardan los clientes en ser atendidos:\n",
    "    - Mujer: Min = 1 min= 60seg, Max = 5 min = 300 seg\n",
    "    - Hombre: Min = 40 seg, Max = 2 min= 120 seg\n",
    "- Consumo según el tipo de cliente:\n",
    "    - Mujer: Min = 30 pesos, Max = 100 pesos\n",
    "    - Hombre: Min = 20 pesos, Max = 80 pesos\n",
    "\n",
    "Responder las siguientes preguntas basados en los datos del problema:\n",
    "1. ¿Cuáles fueron los gastos de los hombres y las mujeres en 5 días de trabajo?.\n",
    "2. ¿Cuál fue el consumo promedio de los hombres y mujeres?\n",
    "3. ¿Cuál fue el número de personas atendidas por día?\n",
    "4. ¿Cuál fue el tiempo de atención promedio?\n",
    "5. ¿Cuánto fue la ganancia promedio de la cafetería en 5 días de trabajo y su respectiva rentabilidad?"
   ]
  },
  {
   "cell_type": "code",
   "execution_count": 6,
   "metadata": {},
   "outputs": [],
   "source": [
    "################## Datos del problema\n",
    "d = 5\n",
    "T =25200\n",
    "T_at_min = 5; T_at_max = 30\n",
    "T_mujer_min =60; T_mujer_max = 300\n",
    "T_hombre_min = 40; T_hombre_max = 120\n",
    "C_mujer_min = 30; C_mujer_max = 100\n",
    "C_hombre_min = 20; C_hombre_max = 80\n"
   ]
  },
  {
   "cell_type": "code",
   "execution_count": null,
   "metadata": {},
   "outputs": [],
   "source": [
    "## Solucion Eduardo"
   ]
  },
  {
   "cell_type": "code",
   "execution_count": 9,
   "metadata": {},
   "outputs": [
    {
     "name": "stdout",
     "output_type": "stream",
     "text": [
      "El gasto promedio de hombres fue: 248.30503880363025 y el de las mujeres fue: 322.8060779629333\n",
      "El consumo promedio por día fue: 9970.6\n",
      "Las personas atendidas por día fueron: [187. 170. 170. 171. 176.]\n",
      "El tiempo de atención promedio fue de: 144.90515409513085\n",
      "La ganacia promedio fue de  5982.36 Y su rentabilidad fue del:  0.6\n"
     ]
    }
   ],
   "source": [
    "## Solucion Diego\n",
    "#Definiendo distribuciones de probabilidad\n",
    "def procesoCafeteria():\n",
    "    genero = np.random.randint(0,2)\n",
    "    T_at = np.random.randint(T_at_min,T_at_max)\n",
    "    T_mujer = np.random.randint(T_mujer_min,T_mujer_max)\n",
    "    T_hombre = np.random.randint(T_hombre_min,T_hombre_max)\n",
    "    C_mujer = np.random.randint(C_mujer_min,C_mujer_max)\n",
    "    C_hombre = np.random.randint(C_hombre_min,C_hombre_max)\n",
    "    if genero == 0:\n",
    "        return [T_at+T_hombre,C_hombre,genero]\n",
    "    else:\n",
    "        return [T_at+T_mujer,C_mujer,genero]\n",
    "    \n",
    "#Inicializando variables\n",
    "T_atencion_mean = np.zeros(d)\n",
    "personasAtendidas = np.zeros(d)\n",
    "gananciaDia = np.zeros(d)\n",
    "consumoDia = np.zeros(d)\n",
    "consumoMean = np.zeros(2)\n",
    "for i in range(d):  \n",
    "    T_atencion = []\n",
    "    T_restante = T\n",
    "    consumo = [[],[]]\n",
    "    while True:\n",
    "        loc = procesoCafeteria() #Variable local para almacenar el resultado de procesoCafetería\n",
    "        T_atencion.append(loc[0]) #Cuánto se tardó en atender al cliente\n",
    "        T_restante -= T_atencion[-1] #Cuánto tiempo queda en el día\n",
    "        personasAtendidas[i] += 1 #Cuántos han atendido\n",
    "        if loc[-1] == 0: # Aquí se almacena el consumo de los hombres\n",
    "            consumo[0].append(loc[1])\n",
    "        else: #Aquí se almacena el consumo de las mujeres\n",
    "            consumo[1].append(loc[1])\n",
    "        consumoDia[i] += loc[1]\n",
    "        gananciaDia[i] = consumoDia[i]*.6\n",
    "        if (T_restante < 0):\n",
    "            break\n",
    "    consumoMean[0] += np.array(consumo[0]).mean()\n",
    "    consumoMean[1] += np.array(consumo[1]).mean()\n",
    "    T_atencion_mean[i] = np.array(T_atencion).mean()\n",
    "print(\"El gasto promedio de hombres fue:\",consumoMean[0],\"y el de las mujeres fue:\",consumoMean[1])\n",
    "print(\"El consumo promedio por día fue:\",consumoDia.mean())\n",
    "print(\"Las personas atendidas por día fueron:\",personasAtendidas)\n",
    "print(\"El tiempo de atención promedio fue de:\",T_atencion_mean.mean())\n",
    "print(\"La ganacia promedio fue de \",gananciaDia.mean(),\"Y su rentabilidad fue del: \",gananciaDia.mean() / consumoDia.mean())"
   ]
  },
  {
   "cell_type": "code",
   "execution_count": null,
   "metadata": {},
   "outputs": [],
   "source": []
  }
 ],
 "metadata": {
  "kernelspec": {
   "display_name": "Python 3",
   "language": "python",
   "name": "python3"
  },
  "language_info": {
   "codemirror_mode": {
    "name": "ipython",
    "version": 3
   },
   "file_extension": ".py",
   "mimetype": "text/x-python",
   "name": "python",
   "nbconvert_exporter": "python",
   "pygments_lexer": "ipython3",
   "version": "3.7.4"
  }
 },
 "nbformat": 4,
 "nbformat_minor": 4
}
